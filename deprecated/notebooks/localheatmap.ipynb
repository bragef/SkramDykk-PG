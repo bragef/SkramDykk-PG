{
 "cells": [
  {
   "cell_type": "code",
   "execution_count": 2,
   "metadata": {
    "collapsed": false
   },
   "outputs": [
    {
     "name": "stdout",
     "output_type": "stream",
     "text": [
      "{'ts': 'Tue, 12 May 2015 15:00:00 GMT', 'divedata': [{'oxygene': 99.22914901523332, 'pressure(dBAR)': 8.5}, {'oxygene': nan, 'pressure(dBAR)': 12.5}, {'oxygene': nan, 'pressure(dBAR)': 16.5}, {'oxygene': 99.46495734093332, 'pressure(dBAR)': 1.5}, {'oxygene': nan, 'pressure(dBAR)': 9.5}, {'oxygene': nan, 'pressure(dBAR)': 13.5}, {'oxygene': 99.13400850779999, 'pressure(dBAR)': 7.5}, {'oxygene': nan, 'pressure(dBAR)': 11.5}, {'oxygene': nan, 'pressure(dBAR)': 10.5}, {'oxygene': 100.0189472512, 'pressure(dBAR)': 5.5}, {'oxygene': nan, 'pressure(dBAR)': 14.5}, {'oxygene': nan, 'pressure(dBAR)': 18.5}, {'oxygene': 96.05624543946665, 'pressure(dBAR)': 0.5}, {'oxygene': nan, 'pressure(dBAR)': 15.5}, {'oxygene': 99.71782531193334, 'pressure(dBAR)': 6.5}, {'oxygene': 100.0924995905, 'pressure(dBAR)': 2.5}, {'oxygene': 100.24824826106665, 'pressure(dBAR)': 4.5}, {'oxygene': 100.46151201410002, 'pressure(dBAR)': 3.5}, {'oxygene': nan, 'pressure(dBAR)': 17.5}], 'timeframe': '3H', 'datatype': 'oxygene'}\n"
     ]
    }
   ],
   "source": [
    "import requests\n",
    "import json\n",
    "import pandas as pd\n",
    "import datetime\n",
    "import plotly.plotly as py\n",
    "import plotly.graph_objs as go\n",
    "py.sign_in('user', 'somepwd')\n",
    "\n",
    "SERVERURL = \"http://146.185.167.10/resampled/\"\n",
    "\n",
    "datatypes = [\"fluorescens\", \"temp\", \"salt\", \"oxygene\",  \"turbidity\"]\n",
    "datatype = 'oxygene'\n",
    "\n",
    "# get the data from the server\n",
    "r = requests.get(SERVERURL+datatype+\".json\")\n",
    "\n",
    "# make the JSON data native Python datastructure\n",
    "d = json.loads(r.text)\n",
    "\n",
    "# view one of the dive data\n",
    "print(d[0])"
   ]
  },
  {
   "cell_type": "code",
   "execution_count": 3,
   "metadata": {
    "collapsed": false
   },
   "outputs": [
    {
     "ename": "PlotlyError",
     "evalue": "Aw, snap! You tried to use our API as the user 'user', but the supplied API key doesn't match our records. You can view your API key at plot.ly/settings.\n\nYou're most likely getting this message because your local credentials file isn't synced with the Plotly server you're communicating with.\n\nGo to plot.ly/<language>/getting-started (e.g., plot.ly/python/getting-started) for more information.\n\nMake sure that you're logged in as user.\n\nNeed help? Please try searching Plotly's <a href='http://stackoverflow.com/questions/tagged/plotly'>Stack Overflow channel</a>.",
     "traceback": [
      "\u001b[1;31m---------------------------------------------------------------------------\u001b[0m",
      "\u001b[1;31mPlotlyError\u001b[0m                               Traceback (most recent call last)",
      "\u001b[1;32m<ipython-input-3-2586ef168dc3>\u001b[0m in \u001b[0;36m<module>\u001b[1;34m()\u001b[0m\n\u001b[0;32m     39\u001b[0m \u001b[1;33m\u001b[0m\u001b[0m\n\u001b[0;32m     40\u001b[0m \u001b[1;31m# go do it!\u001b[0m\u001b[1;33m\u001b[0m\u001b[1;33m\u001b[0m\u001b[0m\n\u001b[1;32m---> 41\u001b[1;33m \u001b[0mpy\u001b[0m\u001b[1;33m.\u001b[0m\u001b[0miplot\u001b[0m\u001b[1;33m(\u001b[0m\u001b[0mdata\u001b[0m\u001b[1;33m,\u001b[0m \u001b[0mfilename\u001b[0m\u001b[1;33m=\u001b[0m\u001b[1;34m'oxygene-surface'\u001b[0m\u001b[1;33m)\u001b[0m\u001b[1;33m\u001b[0m\u001b[0m\n\u001b[0m",
      "\u001b[1;32m/usr/local/lib/python3.5/dist-packages/plotly/plotly/plotly.py\u001b[0m in \u001b[0;36miplot\u001b[1;34m(figure_or_data, **plot_options)\u001b[0m\n\u001b[0;32m    149\u001b[0m     \u001b[1;32mif\u001b[0m \u001b[1;34m'auto_open'\u001b[0m \u001b[1;32mnot\u001b[0m \u001b[1;32min\u001b[0m \u001b[0mplot_options\u001b[0m\u001b[1;33m:\u001b[0m\u001b[1;33m\u001b[0m\u001b[0m\n\u001b[0;32m    150\u001b[0m         \u001b[0mplot_options\u001b[0m\u001b[1;33m[\u001b[0m\u001b[1;34m'auto_open'\u001b[0m\u001b[1;33m]\u001b[0m \u001b[1;33m=\u001b[0m \u001b[1;32mFalse\u001b[0m\u001b[1;33m\u001b[0m\u001b[0m\n\u001b[1;32m--> 151\u001b[1;33m     \u001b[0murl\u001b[0m \u001b[1;33m=\u001b[0m \u001b[0mplot\u001b[0m\u001b[1;33m(\u001b[0m\u001b[0mfigure_or_data\u001b[0m\u001b[1;33m,\u001b[0m \u001b[1;33m**\u001b[0m\u001b[0mplot_options\u001b[0m\u001b[1;33m)\u001b[0m\u001b[1;33m\u001b[0m\u001b[0m\n\u001b[0m\u001b[0;32m    152\u001b[0m \u001b[1;33m\u001b[0m\u001b[0m\n\u001b[0;32m    153\u001b[0m     \u001b[1;32mif\u001b[0m \u001b[0misinstance\u001b[0m\u001b[1;33m(\u001b[0m\u001b[0mfigure_or_data\u001b[0m\u001b[1;33m,\u001b[0m \u001b[0mdict\u001b[0m\u001b[1;33m)\u001b[0m\u001b[1;33m:\u001b[0m\u001b[1;33m\u001b[0m\u001b[0m\n",
      "\u001b[1;32m/usr/local/lib/python3.5/dist-packages/plotly/plotly/plotly.py\u001b[0m in \u001b[0;36mplot\u001b[1;34m(figure_or_data, validate, **plot_options)\u001b[0m\n\u001b[0;32m    239\u001b[0m \u001b[1;33m\u001b[0m\u001b[0m\n\u001b[0;32m    240\u001b[0m     \u001b[0mplot_options\u001b[0m \u001b[1;33m=\u001b[0m \u001b[0m_plot_option_logic\u001b[0m\u001b[1;33m(\u001b[0m\u001b[0mplot_options\u001b[0m\u001b[1;33m)\u001b[0m\u001b[1;33m\u001b[0m\u001b[0m\n\u001b[1;32m--> 241\u001b[1;33m     \u001b[0mres\u001b[0m \u001b[1;33m=\u001b[0m \u001b[0m_send_to_plotly\u001b[0m\u001b[1;33m(\u001b[0m\u001b[0mfigure\u001b[0m\u001b[1;33m,\u001b[0m \u001b[1;33m**\u001b[0m\u001b[0mplot_options\u001b[0m\u001b[1;33m)\u001b[0m\u001b[1;33m\u001b[0m\u001b[0m\n\u001b[0m\u001b[0;32m    242\u001b[0m     \u001b[1;32mif\u001b[0m \u001b[0mres\u001b[0m\u001b[1;33m[\u001b[0m\u001b[1;34m'error'\u001b[0m\u001b[1;33m]\u001b[0m \u001b[1;33m==\u001b[0m \u001b[1;34m''\u001b[0m\u001b[1;33m:\u001b[0m\u001b[1;33m\u001b[0m\u001b[0m\n\u001b[0;32m    243\u001b[0m         \u001b[1;32mif\u001b[0m \u001b[0mplot_options\u001b[0m\u001b[1;33m[\u001b[0m\u001b[1;34m'auto_open'\u001b[0m\u001b[1;33m]\u001b[0m\u001b[1;33m:\u001b[0m\u001b[1;33m\u001b[0m\u001b[0m\n",
      "\u001b[1;32m/usr/local/lib/python3.5/dist-packages/plotly/plotly/plotly.py\u001b[0m in \u001b[0;36m_send_to_plotly\u001b[1;34m(figure, **plot_options)\u001b[0m\n\u001b[0;32m   1429\u001b[0m \u001b[1;33m\u001b[0m\u001b[0m\n\u001b[0;32m   1430\u001b[0m     \u001b[1;32mif\u001b[0m \u001b[1;34m'error'\u001b[0m \u001b[1;32min\u001b[0m \u001b[0mr\u001b[0m \u001b[1;32mand\u001b[0m \u001b[0mr\u001b[0m\u001b[1;33m[\u001b[0m\u001b[1;34m'error'\u001b[0m\u001b[1;33m]\u001b[0m \u001b[1;33m!=\u001b[0m \u001b[1;34m''\u001b[0m\u001b[1;33m:\u001b[0m\u001b[1;33m\u001b[0m\u001b[0m\n\u001b[1;32m-> 1431\u001b[1;33m         \u001b[1;32mraise\u001b[0m \u001b[0mexceptions\u001b[0m\u001b[1;33m.\u001b[0m\u001b[0mPlotlyError\u001b[0m\u001b[1;33m(\u001b[0m\u001b[0mr\u001b[0m\u001b[1;33m[\u001b[0m\u001b[1;34m'error'\u001b[0m\u001b[1;33m]\u001b[0m\u001b[1;33m)\u001b[0m\u001b[1;33m\u001b[0m\u001b[0m\n\u001b[0m\u001b[0;32m   1432\u001b[0m \u001b[1;33m\u001b[0m\u001b[0m\n\u001b[0;32m   1433\u001b[0m     \u001b[1;31m# Check if the url needs a secret key\u001b[0m\u001b[1;33m\u001b[0m\u001b[1;33m\u001b[0m\u001b[0m\n",
      "\u001b[1;31mPlotlyError\u001b[0m: Aw, snap! You tried to use our API as the user 'user', but the supplied API key doesn't match our records. You can view your API key at plot.ly/settings.\n\nYou're most likely getting this message because your local credentials file isn't synced with the Plotly server you're communicating with.\n\nGo to plot.ly/<language>/getting-started (e.g., plot.ly/python/getting-started) for more information.\n\nMake sure that you're logged in as user.\n\nNeed help? Please try searching Plotly's <a href='http://stackoverflow.com/questions/tagged/plotly'>Stack Overflow channel</a>."
     ],
     "output_type": "error"
    }
   ],
   "source": [
    "# make a N*M matrix of the data and make sure the number of bins are OK\n",
    "# we assume that all dives have a measurement that begins at 0.5 - if this is not true we need some rewrite              \n",
    "y= []\n",
    "x= []\n",
    "tempz = []\n",
    "\n",
    "# create the matrix and lists for x and y labels\n",
    "for i in d:\n",
    "    #print(i['ts'], type(i['ts']))\n",
    "    # get a datetime object!\n",
    "    ts = datetime.datetime.strptime(i['ts'], '%a, %d %b %Y %H:%M:%S GMT')\n",
    "    x.append(ts) # \n",
    "    #datetime.datetime.fromtimestamp(i['ts'])) #['$date']/1000))\n",
    "    # from datetime import datetime\n",
    "    # date_object = datetime.strptime('Jun 1 2005  1:33PM', '%b %d %Y %I:%M%p')\n",
    "    col = []\n",
    "\n",
    "    # sort the list so the dictionaries are sorted according to pressure\n",
    "    newlist = sorted(i['divedata'], key=lambda k: -k['pressure(dBAR)'])\n",
    "    for j in newlist:\n",
    "        col.append(j[datatype])\n",
    "        if -j['pressure(dBAR)'] not in y:\n",
    "            y.append(-j['pressure(dBAR)'])\n",
    "\n",
    "    tempz.append(col)\n",
    "    #x.append(i['ts'])\n",
    "z = list(map(list, zip(*tempz)))\n",
    "y = sorted(y)\n",
    "\n",
    "# tell plotly what to plot!\n",
    "data=[\n",
    "    go.Heatmap(\n",
    "        z=z,\n",
    "        x=x,\n",
    "        y=y,\n",
    "        type='surface'\n",
    "        ),\n",
    "    ]\n",
    "\n",
    "# go do it!\n",
    "py.iplot(data, filename='oxygene-surface')"
   ]
  },
  {
   "cell_type": "code",
   "execution_count": null,
   "metadata": {
    "collapsed": true
   },
   "outputs": [],
   "source": [
    ""
   ]
  }
 ],
 "metadata": {
  "kernelspec": {
   "display_name": "Python 3",
   "language": "python",
   "name": "python3"
  },
  "language_info": {
   "codemirror_mode": {
    "name": "ipython",
    "version": 3.0
   },
   "file_extension": ".py",
   "mimetype": "text/x-python",
   "name": "python",
   "nbconvert_exporter": "python",
   "pygments_lexer": "ipython3",
   "version": "3.5.2"
  }
 },
 "nbformat": 4,
 "nbformat_minor": 0
}