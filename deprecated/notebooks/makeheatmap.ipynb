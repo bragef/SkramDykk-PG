{
 "cells": [
  {
   "cell_type": "code",
   "execution_count": 1,
   "metadata": {
    "collapsed": false
   },
   "outputs": [
    {
     "data": {
      "text/html": [
       "<iframe id=\"igraph\" scrolling=\"no\" style=\"border:none;\" seamless=\"seamless\" src=\"https://plot.ly/~njberland/52.embed\" height=\"525px\" width=\"100%\"></iframe>"
      ],
      "text/plain": [
       "<iframe id=\"igraph\" scrolling=\"no\" style=\"border:none;\" seamless=\"seamless\" src=\"https://plot.ly/~njberland/52.embed\" height=\"525px\" width=\"100%\"></iframe>"
      ]
     },
     "execution_count": 1,
     "metadata": {},
     "output_type": "execute_result"
    }
   ],
   "source": [
    "import plotly.plotly as py\n",
    "import plotly.graph_objs as go\n",
    "py.sign_in('you', 'pass')\n",
    "import pymongo\n",
    "\n",
    "def generate_datasets(timeframe,datatype):\n",
    "    coll = pymongo.MongoClient().saivasdata.resampled\n",
    "    tempz = []\n",
    "    y = []\n",
    "    x = []\n",
    "    for curs in coll.find({\"timeframe\": timeframe, \"datatype\": datatype}).sort(\"ts\",pymongo.ASCENDING):\n",
    "        #print(curs)\n",
    "\n",
    "        col = []\n",
    "        # sort the list so the dictionaries are sorted according to pressure\n",
    "        newlist = sorted(curs['divedata'], key=lambda k: -k['pressure(dBAR)']) \n",
    "        for i in newlist:\n",
    "            col.append(i[datatype])\n",
    "            if -i['pressure(dBAR)'] not in y:\n",
    "                y.append(-i['pressure(dBAR)'])\n",
    "                \n",
    "        tempz.append(col)\n",
    "        x.append(curs['ts'])\n",
    "    z = list(map(list, zip(*tempz)))\n",
    "    y = sorted(y)\n",
    "    return [go.Heatmap(x=x,y=y,z=z)]\n",
    "\n",
    "data = generate_datasets('3H','salt')\n",
    "layout = go.Layout(\n",
    "    title='Depth vs {}'.format('salt'),)\n",
    "\n",
    "fig = go.Figure(data=data, layout=layout)\n",
    "py.iplot(fig, filename='gabrielheatmap')"
   ]
  },
  {
   "cell_type": "code",
   "execution_count": null,
   "metadata": {
    "collapsed": true
   },
   "outputs": [],
   "source": [
    ""
   ]
  }
 ],
 "metadata": {
  "kernelspec": {
   "display_name": "Python 3",
   "language": "python",
   "name": "python3"
  },
  "language_info": {
   "codemirror_mode": {
    "name": "ipython",
    "version": 3.0
   },
   "file_extension": ".py",
   "mimetype": "text/x-python",
   "name": "python",
   "nbconvert_exporter": "python",
   "pygments_lexer": "ipython3",
   "version": "3.5.2"
  }
 },
 "nbformat": 4,
 "nbformat_minor": 0
}